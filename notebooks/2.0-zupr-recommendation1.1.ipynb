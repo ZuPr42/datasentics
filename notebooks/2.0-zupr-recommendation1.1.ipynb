{
 "cells": [
  {
   "cell_type": "code",
   "execution_count": 2,
   "metadata": {},
   "outputs": [],
   "source": [
    "# !pip install deep_translator\n",
    "# !pip install langdetect\n",
    "# !pip install langid"
   ]
  },
  {
   "cell_type": "code",
   "execution_count": 3,
   "metadata": {},
   "outputs": [],
   "source": [
    "import pandas as pd\n",
    "import re\n",
    "from deep_translator import GoogleTranslator\n",
    "import pickle"
   ]
  },
  {
   "cell_type": "code",
   "execution_count": 4,
   "metadata": {},
   "outputs": [],
   "source": [
    "with open('C:/Users/ASUS/anaconda3/data_scentics/data/interim/books_data.pkl', 'rb') as f:\n",
    "    books_data = pickle.load(f)\n",
    "\n",
    "with open('C:/Users/ASUS/anaconda3/data_scentics/data/interim/ratings_data.pkl', 'rb') as f:\n",
    "    ratings_data= pickle.load(f)\n",
    "\n",
    "with open('C:/Users/ASUS/anaconda3/data_scentics/data/interim/users_data.pkl', 'rb') as f:\n",
    "    users_data= pickle.load(f)\n",
    "\n"
   ]
  },
  {
   "cell_type": "code",
   "execution_count": 5,
   "metadata": {},
   "outputs": [],
   "source": [
    "def book_rating(ISBN):\n",
    "    # Get the title of the book, author and language with the given ISBN\n",
    "    book_title = books_data.loc[books_data['ISBN'] == ISBN, 'Book-Title'].iloc[0]\n",
    "    book_author = books_data.loc[books_data['ISBN'] == ISBN, 'Book-Author'].iloc[0]\n",
    "    book_language = books_data.loc[books_data['ISBN'] == ISBN, 'Language'].iloc[0]\n",
    "    \n",
    "    if book_language != 'en':\n",
    "        english_title = GoogleTranslator(source='auto', target='en').translate(book_title)\n",
    "    else:\n",
    "        english_title = book_title\n",
    "    \n",
    "    # Get all the books that the author wrote\n",
    "    authors_books = books_data.loc[books_data['Book-Author'] == book_author, ['ISBN', 'Book-Title', 'Language']]\n",
    "    authors_books['English-Title'] = None\n",
    "    \n",
    "    # Get the english title for all the books\n",
    "    authors_books['English-Title'].loc[authors_books['Language'] == 'en'] = authors_books.loc[authors_books['Language'] == 'en', 'Book-Title']\n",
    "    authors_books['English-Title'].loc[authors_books['Language'] != 'en'] = authors_books.loc[authors_books['Language'] != 'en', 'Book-Title'].apply(lambda x: GoogleTranslator(source='auto', target='en').translate(x))   \n",
    "    \n",
    "    # Filter the DataFrame for books with titles whose leftmost 30 characters are the same as translated_title\n",
    "    matched_books = authors_books.loc[authors_books['English-Title'].str[:30] == english_title[:30]]\n",
    "                                                                                                                                                     \n",
    "    books_rating = ratings_data.loc[ratings_data['ISBN'].isin(matched_books['ISBN']), 'Book-Rating'].mean()\n",
    "    \n",
    "    return books_rating"
   ]
  },
  {
   "cell_type": "code",
   "execution_count": 7,
   "metadata": {},
   "outputs": [],
   "source": [
    "def recommendation(BookIsLiked, BookTitle, BookAuthor):\n",
    "    # Find books matching the given title and author\n",
    "    filtered_books = books_data[(books_data['Book-Title'].str.contains(BookTitle)) & (books_data['Book-Author'].str.contains(BookAuthor))]\n",
    "    \n",
    "    # Get ratings of users who rated similar books\n",
    "    users_ratings_books = pd.merge(users_data, ratings_data, on='User-ID')\n",
    "    users_ratings_books = pd.merge(users_ratings_books, filtered_books[['ISBN']], on='ISBN')\n",
    "    users_ratings_books = users_ratings_books[users_ratings_books['Book-Rating'] > BookIsLiked]\n",
    "    \n",
    "    # Find users who liked similar books\n",
    "    lord_readers = users_ratings_books['User-ID'].unique()\n",
    "    \n",
    "    # Get ratings of books read by lord_readers\n",
    "    lord_books_ratings = ratings_data[ratings_data['User-ID'].isin(lord_readers)][['ISBN', 'Book-Rating']]\n",
    "    lord_books_ratings['Book-Rating'] = lord_books_ratings['ISBN'].apply(book_rating)\n",
    "    \n",
    "    # Filter books with sufficient ratings\n",
    "    count = lord_books_ratings['ISBN'].value_counts()\n",
    "    count = count[count > 5]\n",
    "    \n",
    "    # Compute mean ratings of selected books\n",
    "    mean_ratings = lord_books_ratings.groupby('ISBN')['Book-Rating'].mean().reset_index(name='MeanRating')\n",
    "    mean_ratings = mean_ratings[mean_ratings['MeanRating'] > BookIsLiked]\n",
    "    mean_ratings = mean_ratings[~mean_ratings['ISBN'].isin(filtered_books['ISBN'])]\n",
    "    \n",
    "    # Get the data of recommended books\n",
    "    recommended_books = books_data[books_data['ISBN'].isin(mean_ratings['ISBN'])]\n",
    "    \n",
    "    return recommended_books\n"
   ]
  },
  {
   "cell_type": "code",
   "execution_count": 8,
   "metadata": {},
   "outputs": [],
   "source": [
    "## defining variables\n",
    "BookIsLiked = 6 ## what does it mean that I like the book? How high the rating must be?\n",
    "BookTitle = 'The Fellowship of the Ring'.upper()\n",
    "BookAuthor = 'TOLKIEN'"
   ]
  },
  {
   "cell_type": "code",
   "execution_count": 9,
   "metadata": {},
   "outputs": [],
   "source": [
    "%%time\n",
    "recommendation(BookIsLiked, BookTitle, BookAuthor)"
   ]
  }
 ],
 "metadata": {
  "kernelspec": {
   "display_name": "analytics",
   "language": "python",
   "name": "python3"
  },
  "language_info": {
   "codemirror_mode": {
    "name": "ipython",
    "version": 3
   },
   "file_extension": ".py",
   "mimetype": "text/x-python",
   "name": "python",
   "nbconvert_exporter": "python",
   "pygments_lexer": "ipython3",
   "version": "3.9.18"
  }
 },
 "nbformat": 4,
 "nbformat_minor": 2
}
