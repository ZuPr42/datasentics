{
 "cells": [
  {
   "cell_type": "code",
   "execution_count": 1,
   "metadata": {},
   "outputs": [],
   "source": [
    "import pandas as pd\n",
    "import langid\n",
    "import requests\n",
    "import re\n",
    "import pickle"
   ]
  },
  {
   "cell_type": "code",
   "execution_count": 2,
   "metadata": {},
   "outputs": [],
   "source": [
    "with open('C:/Users/ASUS/anaconda3/data_scentics/data/interim/books_data.pkl', 'rb') as f:\n",
    "    books_data = pickle.load(f)\n",
    "\n",
    "with open('C:/Users/ASUS/anaconda3/data_scentics/data/interim/ratings_data.pkl', 'rb') as f:\n",
    "    ratings_data= pickle.load(f)\n",
    "\n",
    "with open('C:/Users/ASUS/anaconda3/data_scentics/data/interim/users_data.pkl', 'rb') as f:\n",
    "    users_data= pickle.load(f)\n",
    "\n",
    "with open('C:/Users/ASUS/anaconda3/data_scentics/data/interim/books_ratings.pkl', 'rb') as f:\n",
    "    books_ratings= pickle.load(f)"
   ]
  },
  {
   "cell_type": "code",
   "execution_count": 3,
   "metadata": {},
   "outputs": [],
   "source": [
    "def book_rating(ISBN):\n",
    "   # Check if authors_books is not empty before accessing the first row\n",
    "    if not books_data.loc[books_data['ISBN'] == ISBN, ['Book-Title', 'Book-Author', 'Language']].empty:\n",
    "        # Get the title of the book, author, and language with the given ISBN\n",
    "        book_title, book_author, book_language = books_data.loc[books_data['ISBN'] == ISBN, ['Book-Title', 'Book-Author', 'Language']].iloc[0]\n",
    "\n",
    "        # Get all the books that the author wrote\n",
    "        authors_books = books_data.loc[(books_data['Book-Author'] == book_author) & (books_data['Language'] == book_language), ['ISBN', 'Book-Title', 'Language']]\n",
    "\n",
    "        # Filter the DataFrame for books with titles whose leftmost 30 characters are the same as translated_title\n",
    "        matched_books = authors_books.loc[authors_books['Book-Title'].str[:30] == book_title[:30]]\n",
    "\n",
    "        books_rating = ratings_data.loc[ratings_data['ISBN'].isin(matched_books['ISBN']), 'Book-Rating'].mean()\n",
    "\n",
    "        return books_rating\n",
    "    else:\n",
    "        return None"
   ]
  },
  {
   "cell_type": "code",
   "execution_count": 4,
   "metadata": {},
   "outputs": [],
   "source": [
    "def recommendation(BookIsLiked, BookTitle, BookAuthor):\n",
    "    ## find the lord of the Rings books\n",
    "    filtered_books = books_data.loc[books_data[\"Book-Title\"].str.contains(BookTitle) & books_data[\"Book-Author\"].str.contains(BookAuthor)]\n",
    "\n",
    "    ## create merged dataframes with the Lord of the Rings books\n",
    "    users_ratings_books = pd.merge(left=ratings_data, right= filtered_books, left_on = \"ISBN\", right_on = \"ISBN\")\n",
    "    ##users_ratings_books\n",
    "\n",
    "    ## getting the users that like Lord of the Rings\n",
    "    users_ratings_books_filtered = users_ratings_books.loc[users_ratings_books[\"Book-Rating\"] > BookIsLiked]\n",
    "    lord_readers = pd.unique(users_ratings_books_filtered['User-ID'])\n",
    "    ## print(lord_readers)\n",
    "   \n",
    "    ## getting the ISBN and Book-Ratings of the books that Lord of the Rings lovers also read and are in the same language\n",
    "    books = ratings_data[ratings_data['User-ID'].isin(lord_readers)].reindex(columns = ['ISBN', 'Book-Rating'])\n",
    "    books['Language'] = books.merge(books_data, on='ISBN', how='left')['Language']\n",
    "    books = books.loc[books['Language'].isin(filtered_books['Language'])]\n",
    "    books['Book-Rating'] = books['ISBN'].apply(book_rating)\n",
    "\n",
    "    ## keeping only the books where there is more than 10 ratings\n",
    "    count = books.groupby('ISBN')['Book-Rating'].count().reset_index(name = 'Count')\n",
    "    count = count.loc[count[\"Count\"] > 10]\n",
    "    ## count.sort_values(by='Count', ascending=False)\n",
    "    ## grouped_data['Count'].sum()\n",
    "\n",
    "    ## keeping only the books where the mean of the ratings is bigger than BookIsLiked, but the book should not be Lord of the Rings book\n",
    "    ratings = pd.merge(left=ratings_data,right=count, left_on=\"ISBN\", right_on=\"ISBN\")\n",
    "    ratings = ratings.groupby('ISBN')['Book-Rating'].mean().reset_index(name = 'MeanRating').sort_values(by='MeanRating', ascending=False)\n",
    "    ratings = ratings.loc[ratings[\"MeanRating\"] > BookIsLiked]\n",
    "    ratings = ratings[ratings.ISBN.isin(filtered_books[\"ISBN\"])==False]\n",
    "    ##ratings\n",
    "\n",
    "    ## get the selected book data\n",
    "    books_data[books_data['ISBN'].isin(ratings['ISBN'])]\n",
    "    print(books_data[books_data['ISBN'].isin(ratings['ISBN'])])"
   ]
  },
  {
   "cell_type": "code",
   "execution_count": 5,
   "metadata": {},
   "outputs": [],
   "source": [
    "## defining variables\n",
    "BookIsLiked = 6 ## what does it mean that I like the book? How high the rating must be?\n",
    "BookTitle = 'The Fellowship of the Ring'.upper()\n",
    "BookAuthor = 'TOLKIEN'"
   ]
  },
  {
   "cell_type": "code",
   "execution_count": null,
   "metadata": {},
   "outputs": [],
   "source": [
    "%%time\n",
    "recommendation(BookIsLiked, BookTitle, BookAuthor)"
   ]
  }
 ],
 "metadata": {
  "kernelspec": {
   "display_name": "analytics",
   "language": "python",
   "name": "python3"
  },
  "language_info": {
   "codemirror_mode": {
    "name": "ipython",
    "version": 3
   },
   "file_extension": ".py",
   "mimetype": "text/x-python",
   "name": "python",
   "nbconvert_exporter": "python",
   "pygments_lexer": "ipython3",
   "version": "3.9.18"
  }
 },
 "nbformat": 4,
 "nbformat_minor": 2
}
