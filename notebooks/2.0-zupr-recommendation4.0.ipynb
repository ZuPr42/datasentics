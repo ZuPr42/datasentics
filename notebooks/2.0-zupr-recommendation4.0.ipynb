{
 "cells": [
  {
   "cell_type": "code",
   "execution_count": 17,
   "metadata": {},
   "outputs": [
    {
     "name": "stdout",
     "output_type": "stream",
     "text": [
      "Note: you may need to restart the kernel to use updated packages.\n"
     ]
    },
    {
     "name": "stderr",
     "output_type": "stream",
     "text": [
      "ERROR: Could not find a version that satisfies the requirement isbntools.dev (from versions: none)\n",
      "ERROR: No matching distribution found for isbntools.dev\n"
     ]
    }
   ],
   "source": [
    "pip install isbntools.dev"
   ]
  },
  {
   "cell_type": "code",
   "execution_count": 18,
   "metadata": {},
   "outputs": [
    {
     "ename": "ModuleNotFoundError",
     "evalue": "No module named 'isbntools.dev'",
     "output_type": "error",
     "traceback": [
      "\u001b[1;31m---------------------------------------------------------------------------\u001b[0m",
      "\u001b[1;31mModuleNotFoundError\u001b[0m                       Traceback (most recent call last)",
      "Cell \u001b[1;32mIn[18], line 2\u001b[0m\n\u001b[0;32m      1\u001b[0m \u001b[38;5;28;01mfrom\u001b[39;00m \u001b[38;5;21;01misbntools\u001b[39;00m \u001b[38;5;28;01mimport\u001b[39;00m \u001b[38;5;241m*\u001b[39m\n\u001b[1;32m----> 2\u001b[0m \u001b[38;5;28;01mfrom\u001b[39;00m \u001b[38;5;21;01misbntools\u001b[39;00m\u001b[38;5;21;01m.\u001b[39;00m\u001b[38;5;21;01mdev\u001b[39;00m \u001b[38;5;28;01mimport\u001b[39;00m wcat\n",
      "\u001b[1;31mModuleNotFoundError\u001b[0m: No module named 'isbntools.dev'"
     ]
    }
   ],
   "source": [
    "from isbntools import *\n",
    "from isbntools.dev import wcat"
   ]
  },
  {
   "cell_type": "code",
   "execution_count": 7,
   "metadata": {},
   "outputs": [
    {
     "ename": "NameError",
     "evalue": "name 'openl' is not defined",
     "output_type": "error",
     "traceback": [
      "\u001b[1;31m---------------------------------------------------------------------------\u001b[0m",
      "\u001b[1;31mNameError\u001b[0m                                 Traceback (most recent call last)",
      "Cell \u001b[1;32mIn[7], line 14\u001b[0m\n\u001b[0;32m     12\u001b[0m \u001b[38;5;66;03m# Example usage:\u001b[39;00m\n\u001b[0;32m     13\u001b[0m query \u001b[38;5;241m=\u001b[39m \u001b[38;5;124m'\u001b[39m\u001b[38;5;124m1984 George Orwell\u001b[39m\u001b[38;5;124m'\u001b[39m  \u001b[38;5;66;03m# Example query for \"1984\" by George Orwell\u001b[39;00m\n\u001b[1;32m---> 14\u001b[0m title, author, language \u001b[38;5;241m=\u001b[39m \u001b[43mget_book_info\u001b[49m\u001b[43m(\u001b[49m\u001b[43mquery\u001b[49m\u001b[43m)\u001b[49m\n\u001b[0;32m     15\u001b[0m \u001b[38;5;28mprint\u001b[39m(\u001b[38;5;124m\"\u001b[39m\u001b[38;5;124mTitle:\u001b[39m\u001b[38;5;124m\"\u001b[39m, title)\n\u001b[0;32m     16\u001b[0m \u001b[38;5;28mprint\u001b[39m(\u001b[38;5;124m\"\u001b[39m\u001b[38;5;124mAuthor:\u001b[39m\u001b[38;5;124m\"\u001b[39m, author)\n",
      "Cell \u001b[1;32mIn[7], line 2\u001b[0m, in \u001b[0;36mget_book_info\u001b[1;34m(query)\u001b[0m\n\u001b[0;32m      1\u001b[0m \u001b[38;5;28;01mdef\u001b[39;00m \u001b[38;5;21mget_book_info\u001b[39m(query):\n\u001b[1;32m----> 2\u001b[0m     results \u001b[38;5;241m=\u001b[39m \u001b[43mopenl\u001b[49m\u001b[38;5;241m.\u001b[39mquery(query)\n\u001b[0;32m      3\u001b[0m     \u001b[38;5;28;01mif\u001b[39;00m results:\n\u001b[0;32m      4\u001b[0m         \u001b[38;5;66;03m# Assuming we're interested in the first result\u001b[39;00m\n\u001b[0;32m      5\u001b[0m         result \u001b[38;5;241m=\u001b[39m results[\u001b[38;5;241m0\u001b[39m]\n",
      "\u001b[1;31mNameError\u001b[0m: name 'openl' is not defined"
     ]
    }
   ],
   "source": [
    "def get_book_info(query):\n",
    "    results = openl.query(query)\n",
    "    if results:\n",
    "        # Assuming we're interested in the first result\n",
    "        result = results[0]\n",
    "        title = result['title']\n",
    "        author = ', '.join(result['authors']) if 'authors' in result else 'Unknown Author'\n",
    "        language = result.get('languages', ['Language information not available'])[0]\n",
    "        return title, author, language\n",
    "    return None, None, None\n",
    "\n",
    "# Example usage:\n",
    "query = '1984 George Orwell'  # Example query for \"1984\" by George Orwell\n",
    "title, author, language = get_book_info(query)\n",
    "print(\"Title:\", title)\n",
    "print(\"Author:\", author)\n",
    "print(\"Language:\", language)"
   ]
  }
 ],
 "metadata": {
  "kernelspec": {
   "display_name": "analytics",
   "language": "python",
   "name": "python3"
  },
  "language_info": {
   "codemirror_mode": {
    "name": "ipython",
    "version": 3
   },
   "file_extension": ".py",
   "mimetype": "text/x-python",
   "name": "python",
   "nbconvert_exporter": "python",
   "pygments_lexer": "ipython3",
   "version": "3.9.18"
  }
 },
 "nbformat": 4,
 "nbformat_minor": 2
}
