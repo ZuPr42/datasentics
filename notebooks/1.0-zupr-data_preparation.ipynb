{
 "cells": [
  {
   "cell_type": "code",
   "execution_count": 2,
   "metadata": {},
   "outputs": [],
   "source": [
    "# !pip install deep_translator\n",
    "# !pip install langdetect\n",
    "# !pip install langid"
   ]
  },
  {
   "cell_type": "code",
   "execution_count": 3,
   "metadata": {},
   "outputs": [],
   "source": [
    "import pandas as pd\n",
    "import langid\n",
    "import requests\n",
    "import re\n",
    "import pickle\n"
   ]
  },
  {
   "cell_type": "code",
   "execution_count": 4,
   "metadata": {},
   "outputs": [],
   "source": [
    "\n",
    "## import of the data\n",
    "users_data = pd.read_csv(\"C:/Users/ASUS/anaconda3/data_scentics/data/external/users.csv\").convert_dtypes()\n",
    "ratings_data = pd.read_csv(\"C:/Users/ASUS/anaconda3/data_scentics/data/external/ratings.csv\").convert_dtypes()\n",
    "books_data = pd.read_csv(\"C:/Users/ASUS/anaconda3/data_scentics/data/external/books.csv\", low_memory=False)"
   ]
  },
  {
   "cell_type": "code",
   "execution_count": 5,
   "metadata": {},
   "outputs": [],
   "source": [
    "# put the title and author all to upper case\n",
    "books_data['Book-Title'] = books_data['Book-Title'].str.upper()\n",
    "books_data['Book-Author'] = books_data['Book-Author'].str.upper()\n",
    "books_data['Book-Title'] = books_data['Book-Title'].astype(str)\n",
    "books_data['Publisher'] = books_data['Publisher'].str.upper()\n",
    "books_data = books_data[['ISBN', 'Book-Author', 'Book-Title','Year-Of-Publication','Publisher']]\n",
    "\n",
    "pattern = r'[():]'\n",
    "books_data['Book-Title'] = books_data['Book-Title'].apply(lambda x:re.sub(pattern, '', x))\n",
    "books_data['Language'] = None"
   ]
  },
  {
   "cell_type": "code",
   "execution_count": 6,
   "metadata": {},
   "outputs": [
    {
     "data": {
      "text/html": [
       "<div>\n",
       "<style scoped>\n",
       "    .dataframe tbody tr th:only-of-type {\n",
       "        vertical-align: middle;\n",
       "    }\n",
       "\n",
       "    .dataframe tbody tr th {\n",
       "        vertical-align: top;\n",
       "    }\n",
       "\n",
       "    .dataframe thead th {\n",
       "        text-align: right;\n",
       "    }\n",
       "</style>\n",
       "<table border=\"1\" class=\"dataframe\">\n",
       "  <thead>\n",
       "    <tr style=\"text-align: right;\">\n",
       "      <th></th>\n",
       "      <th>ISBN</th>\n",
       "      <th>Book-Author</th>\n",
       "      <th>Book-Title</th>\n",
       "      <th>Year-Of-Publication</th>\n",
       "      <th>Publisher</th>\n",
       "      <th>Language</th>\n",
       "    </tr>\n",
       "  </thead>\n",
       "  <tbody>\n",
       "    <tr>\n",
       "      <th>118033</th>\n",
       "      <td>0751352497</td>\n",
       "      <td>NaN</td>\n",
       "      <td>A+ QUIZ MASTERS01 EARTH</td>\n",
       "      <td>1999</td>\n",
       "      <td>DORLING KINDERSLEY</td>\n",
       "      <td>None</td>\n",
       "    </tr>\n",
       "    <tr>\n",
       "      <th>187689</th>\n",
       "      <td>9627982032</td>\n",
       "      <td>NaN</td>\n",
       "      <td>THE CREDIT SUISSE GUIDE TO MANAGING YOUR PERSO...</td>\n",
       "      <td>1995</td>\n",
       "      <td>EDINBURGH FINANCIAL PUBLISHING</td>\n",
       "      <td>None</td>\n",
       "    </tr>\n",
       "  </tbody>\n",
       "</table>\n",
       "</div>"
      ],
      "text/plain": [
       "              ISBN Book-Author  \\\n",
       "118033  0751352497         NaN   \n",
       "187689  9627982032         NaN   \n",
       "\n",
       "                                               Book-Title Year-Of-Publication  \\\n",
       "118033                            A+ QUIZ MASTERS01 EARTH                1999   \n",
       "187689  THE CREDIT SUISSE GUIDE TO MANAGING YOUR PERSO...                1995   \n",
       "\n",
       "                             Publisher Language  \n",
       "118033              DORLING KINDERSLEY     None  \n",
       "187689  EDINBURGH FINANCIAL PUBLISHING     None  "
      ]
     },
     "execution_count": 6,
     "metadata": {},
     "output_type": "execute_result"
    }
   ],
   "source": [
    "# Checking  for  null value Book-Author\n",
    "books_data[books_data['Book-Author'].isna()]\n"
   ]
  },
  {
   "cell_type": "code",
   "execution_count": 7,
   "metadata": {},
   "outputs": [],
   "source": [
    "# updating the null value\n",
    "books_data.loc[187689, 'Book-Author'] = str.upper('Larissa Anne Downes')\n",
    "books_data.loc[118033, 'Book-Author'] = str.upper('Neznamy')"
   ]
  },
  {
   "cell_type": "code",
   "execution_count": 8,
   "metadata": {},
   "outputs": [
    {
     "data": {
      "text/html": [
       "<div>\n",
       "<style scoped>\n",
       "    .dataframe tbody tr th:only-of-type {\n",
       "        vertical-align: middle;\n",
       "    }\n",
       "\n",
       "    .dataframe tbody tr th {\n",
       "        vertical-align: top;\n",
       "    }\n",
       "\n",
       "    .dataframe thead th {\n",
       "        text-align: right;\n",
       "    }\n",
       "</style>\n",
       "<table border=\"1\" class=\"dataframe\">\n",
       "  <thead>\n",
       "    <tr style=\"text-align: right;\">\n",
       "      <th></th>\n",
       "      <th>ISBN</th>\n",
       "      <th>Book-Author</th>\n",
       "      <th>Book-Title</th>\n",
       "      <th>Year-Of-Publication</th>\n",
       "      <th>Publisher</th>\n",
       "      <th>Language</th>\n",
       "    </tr>\n",
       "  </thead>\n",
       "  <tbody>\n",
       "  </tbody>\n",
       "</table>\n",
       "</div>"
      ],
      "text/plain": [
       "Empty DataFrame\n",
       "Columns: [ISBN, Book-Author, Book-Title, Year-Of-Publication, Publisher, Language]\n",
       "Index: []"
      ]
     },
     "execution_count": 8,
     "metadata": {},
     "output_type": "execute_result"
    }
   ],
   "source": [
    "# Checking  for  null value Book-Title\n",
    "books_data[books_data['Book-Title'].isna()]\n"
   ]
  },
  {
   "cell_type": "code",
   "execution_count": 9,
   "metadata": {},
   "outputs": [
    {
     "data": {
      "text/html": [
       "<div>\n",
       "<style scoped>\n",
       "    .dataframe tbody tr th:only-of-type {\n",
       "        vertical-align: middle;\n",
       "    }\n",
       "\n",
       "    .dataframe tbody tr th {\n",
       "        vertical-align: top;\n",
       "    }\n",
       "\n",
       "    .dataframe thead th {\n",
       "        text-align: right;\n",
       "    }\n",
       "</style>\n",
       "<table border=\"1\" class=\"dataframe\">\n",
       "  <thead>\n",
       "    <tr style=\"text-align: right;\">\n",
       "      <th></th>\n",
       "      <th>ISBN</th>\n",
       "      <th>Book-Author</th>\n",
       "      <th>Book-Title</th>\n",
       "      <th>Year-Of-Publication</th>\n",
       "      <th>Publisher</th>\n",
       "      <th>Language</th>\n",
       "    </tr>\n",
       "  </thead>\n",
       "  <tbody>\n",
       "  </tbody>\n",
       "</table>\n",
       "</div>"
      ],
      "text/plain": [
       "Empty DataFrame\n",
       "Columns: [ISBN, Book-Author, Book-Title, Year-Of-Publication, Publisher, Language]\n",
       "Index: []"
      ]
     },
     "execution_count": 9,
     "metadata": {},
     "output_type": "execute_result"
    }
   ],
   "source": [
    "# Checking  for  null value Year-Of-Publication\n",
    "books_data[books_data['Year-Of-Publication'].isna()]\n"
   ]
  },
  {
   "cell_type": "code",
   "execution_count": 10,
   "metadata": {},
   "outputs": [
    {
     "data": {
      "text/html": [
       "<div>\n",
       "<style scoped>\n",
       "    .dataframe tbody tr th:only-of-type {\n",
       "        vertical-align: middle;\n",
       "    }\n",
       "\n",
       "    .dataframe tbody tr th {\n",
       "        vertical-align: top;\n",
       "    }\n",
       "\n",
       "    .dataframe thead th {\n",
       "        text-align: right;\n",
       "    }\n",
       "</style>\n",
       "<table border=\"1\" class=\"dataframe\">\n",
       "  <thead>\n",
       "    <tr style=\"text-align: right;\">\n",
       "      <th></th>\n",
       "      <th>ISBN</th>\n",
       "      <th>Book-Author</th>\n",
       "      <th>Book-Title</th>\n",
       "      <th>Year-Of-Publication</th>\n",
       "      <th>Publisher</th>\n",
       "      <th>Language</th>\n",
       "    </tr>\n",
       "  </thead>\n",
       "  <tbody>\n",
       "    <tr>\n",
       "      <th>128890</th>\n",
       "      <td>193169656X</td>\n",
       "      <td>ELAINE CORVIDAE</td>\n",
       "      <td>TYRANT MOON</td>\n",
       "      <td>2002</td>\n",
       "      <td>NaN</td>\n",
       "      <td>None</td>\n",
       "    </tr>\n",
       "    <tr>\n",
       "      <th>129037</th>\n",
       "      <td>1931696993</td>\n",
       "      <td>LINNEA SINCLAIR</td>\n",
       "      <td>FINDERS KEEPERS</td>\n",
       "      <td>2001</td>\n",
       "      <td>NaN</td>\n",
       "      <td>None</td>\n",
       "    </tr>\n",
       "  </tbody>\n",
       "</table>\n",
       "</div>"
      ],
      "text/plain": [
       "              ISBN      Book-Author       Book-Title Year-Of-Publication  \\\n",
       "128890  193169656X  ELAINE CORVIDAE      TYRANT MOON                2002   \n",
       "129037  1931696993  LINNEA SINCLAIR  FINDERS KEEPERS                2001   \n",
       "\n",
       "       Publisher Language  \n",
       "128890       NaN     None  \n",
       "129037       NaN     None  "
      ]
     },
     "execution_count": 10,
     "metadata": {},
     "output_type": "execute_result"
    }
   ],
   "source": [
    "# Checking  for  null value Publisher\n",
    "books_data[books_data['Publisher'].isna()]"
   ]
  },
  {
   "cell_type": "code",
   "execution_count": 11,
   "metadata": {},
   "outputs": [],
   "source": [
    "# updating the null values\n",
    "books_data.loc[128890, 'Publisher'] = str.upper('NovelBooks, Inc.')\n",
    "books_data.loc[129037, 'Publisher'] = str.upper('CreateSpace Independent Publishing Platform')"
   ]
  },
  {
   "cell_type": "code",
   "execution_count": 12,
   "metadata": {},
   "outputs": [
    {
     "data": {
      "text/plain": [
       "array(['2002', '2001', '1991', '1999', '2000', '1993', '1996', '1988',\n",
       "       '2004', '1998', '1994', '2003', '1997', '1983', '1979', '1995',\n",
       "       '1982', '1985', '1992', '1986', '1978', '1980', '1952', '1987',\n",
       "       '1990', '1981', '1989', '1984', '0', '1968', '1961', '1958',\n",
       "       '1974', '1976', '1971', '1977', '1975', '1965', '1941', '1970',\n",
       "       '1962', '1973', '1972', '1960', '1966', '1920', '1956', '1959',\n",
       "       '1953', '1951', '1942', '1963', '1964', '1969', '1954', '1950',\n",
       "       '1967', '2005', '1957', '1940', '1937', '1955', '1946', '1936',\n",
       "       '1930', '2011', '1925', '1948', '1943', '1947', '1945', '1923',\n",
       "       '2020', '1939', '1926', '1938', '2030', '1911', '1904', '1949',\n",
       "       '1932', '1928', '1929', '1927', '1931', '1914', '2050', '1934',\n",
       "       '1910', '1933', '1902', '1924', '1921', '1900', '2038', '2026',\n",
       "       '1944', '1917', '1901', '2010', '1908', '1906', '1935', '1806',\n",
       "       '2021', '2012', '2006', 'DK Publishing Inc', 'Gallimard', '1909',\n",
       "       '2008', '1378', '1919', '1922', '1897', '2024', '1376', '2037'],\n",
       "      dtype=object)"
      ]
     },
     "execution_count": 12,
     "metadata": {},
     "output_type": "execute_result"
    }
   ],
   "source": [
    "# overview about values in Year-Of-Publication\n",
    "books_data['Year-Of-Publication'].unique()"
   ]
  },
  {
   "cell_type": "code",
   "execution_count": 13,
   "metadata": {},
   "outputs": [
    {
     "data": {
      "text/html": [
       "<div>\n",
       "<style scoped>\n",
       "    .dataframe tbody tr th:only-of-type {\n",
       "        vertical-align: middle;\n",
       "    }\n",
       "\n",
       "    .dataframe tbody tr th {\n",
       "        vertical-align: top;\n",
       "    }\n",
       "\n",
       "    .dataframe thead th {\n",
       "        text-align: right;\n",
       "    }\n",
       "</style>\n",
       "<table border=\"1\" class=\"dataframe\">\n",
       "  <thead>\n",
       "    <tr style=\"text-align: right;\">\n",
       "      <th></th>\n",
       "      <th>ISBN</th>\n",
       "      <th>Book-Author</th>\n",
       "      <th>Book-Title</th>\n",
       "      <th>Year-Of-Publication</th>\n",
       "      <th>Publisher</th>\n",
       "      <th>Language</th>\n",
       "    </tr>\n",
       "  </thead>\n",
       "  <tbody>\n",
       "    <tr>\n",
       "      <th>209538</th>\n",
       "      <td>078946697X</td>\n",
       "      <td>2000</td>\n",
       "      <td>DK READERS CREATING THE X-MEN, HOW IT ALL BEGA...</td>\n",
       "      <td>DK Publishing Inc</td>\n",
       "      <td>HTTP://IMAGES.AMAZON.COM/IMAGES/P/078946697X.0...</td>\n",
       "      <td>None</td>\n",
       "    </tr>\n",
       "    <tr>\n",
       "      <th>220731</th>\n",
       "      <td>2070426769</td>\n",
       "      <td>2003</td>\n",
       "      <td>PEUPLE DU CIEL, SUIVI DE 'LES BERGERS\\\";JEAN-M...</td>\n",
       "      <td>Gallimard</td>\n",
       "      <td>HTTP://IMAGES.AMAZON.COM/IMAGES/P/2070426769.0...</td>\n",
       "      <td>None</td>\n",
       "    </tr>\n",
       "    <tr>\n",
       "      <th>221678</th>\n",
       "      <td>0789466953</td>\n",
       "      <td>2000</td>\n",
       "      <td>DK READERS CREATING THE X-MEN, HOW COMIC BOOKS...</td>\n",
       "      <td>DK Publishing Inc</td>\n",
       "      <td>HTTP://IMAGES.AMAZON.COM/IMAGES/P/0789466953.0...</td>\n",
       "      <td>None</td>\n",
       "    </tr>\n",
       "  </tbody>\n",
       "</table>\n",
       "</div>"
      ],
      "text/plain": [
       "              ISBN Book-Author  \\\n",
       "209538  078946697X        2000   \n",
       "220731  2070426769        2003   \n",
       "221678  0789466953        2000   \n",
       "\n",
       "                                               Book-Title Year-Of-Publication  \\\n",
       "209538  DK READERS CREATING THE X-MEN, HOW IT ALL BEGA...   DK Publishing Inc   \n",
       "220731  PEUPLE DU CIEL, SUIVI DE 'LES BERGERS\\\";JEAN-M...           Gallimard   \n",
       "221678  DK READERS CREATING THE X-MEN, HOW COMIC BOOKS...   DK Publishing Inc   \n",
       "\n",
       "                                                Publisher Language  \n",
       "209538  HTTP://IMAGES.AMAZON.COM/IMAGES/P/078946697X.0...     None  \n",
       "220731  HTTP://IMAGES.AMAZON.COM/IMAGES/P/2070426769.0...     None  \n",
       "221678  HTTP://IMAGES.AMAZON.COM/IMAGES/P/0789466953.0...     None  "
      ]
     },
     "execution_count": 13,
     "metadata": {},
     "output_type": "execute_result"
    }
   ],
   "source": [
    "# info about the books with wrong Year-Of-Publication\n",
    "books_data.loc[books_data['Year-Of-Publication'].isin(['DK Publishing Inc','Gallimard'])] "
   ]
  },
  {
   "cell_type": "code",
   "execution_count": 14,
   "metadata": {},
   "outputs": [],
   "source": [
    "# correcting the Year-Of-Publication\n",
    "books_data.loc[209538,'Year-Of-Publication'] = 2000\n",
    "books_data.loc[220731,'Year-Of-Publication'] = 2003\n",
    "books_data.loc[221678,'Year-Of-Publication'] = 2000"
   ]
  },
  {
   "cell_type": "code",
   "execution_count": 15,
   "metadata": {},
   "outputs": [
    {
     "data": {
      "text/plain": [
       "array(['2002', '2001', '1991', '1999', '2000', '1993', '1996', '1988',\n",
       "       '2004', '1998', '1994', '2003', '1997', '1983', '1979', '1995',\n",
       "       '1982', '1985', '1992', '1986', '1978', '1980', '1952', '1987',\n",
       "       '1990', '1981', '1989', '1984', '0', '1968', '1961', '1958',\n",
       "       '1974', '1976', '1971', '1977', '1975', '1965', '1941', '1970',\n",
       "       '1962', '1973', '1972', '1960', '1966', '1920', '1956', '1959',\n",
       "       '1953', '1951', '1942', '1963', '1964', '1969', '1954', '1950',\n",
       "       '1967', '2005', '1957', '1940', '1937', '1955', '1946', '1936',\n",
       "       '1930', '2011', '1925', '1948', '1943', '1947', '1945', '1923',\n",
       "       '2020', '1939', '1926', '1938', '2030', '1911', '1904', '1949',\n",
       "       '1932', '1928', '1929', '1927', '1931', '1914', '2050', '1934',\n",
       "       '1910', '1933', '1902', '1924', '1921', '1900', '2038', '2026',\n",
       "       '1944', '1917', '1901', '2010', '1908', '1906', '1935', '1806',\n",
       "       '2021', '2012', '2006', 2000, 2003, '1909', '2008', '1378', '1919',\n",
       "       '1922', '1897', '2024', '1376', '2037'], dtype=object)"
      ]
     },
     "execution_count": 15,
     "metadata": {},
     "output_type": "execute_result"
    }
   ],
   "source": [
    "#check of Year-Of-Publication\n",
    "books_data['Year-Of-Publication'].unique()"
   ]
  },
  {
   "cell_type": "code",
   "execution_count": 16,
   "metadata": {},
   "outputs": [],
   "source": [
    "# convertingt the Year-Of-Publication to numeric\n",
    "books_data['Year-Of-Publication'] = pd.to_numeric(books_data['Year-Of-Publication'], errors='coerce')"
   ]
  },
  {
   "cell_type": "code",
   "execution_count": 17,
   "metadata": {},
   "outputs": [
    {
     "data": {
      "text/html": [
       "<div>\n",
       "<style scoped>\n",
       "    .dataframe tbody tr th:only-of-type {\n",
       "        vertical-align: middle;\n",
       "    }\n",
       "\n",
       "    .dataframe tbody tr th {\n",
       "        vertical-align: top;\n",
       "    }\n",
       "\n",
       "    .dataframe thead th {\n",
       "        text-align: right;\n",
       "    }\n",
       "</style>\n",
       "<table border=\"1\" class=\"dataframe\">\n",
       "  <thead>\n",
       "    <tr style=\"text-align: right;\">\n",
       "      <th></th>\n",
       "      <th>ISBN</th>\n",
       "      <th>Book-Author</th>\n",
       "      <th>Book-Title</th>\n",
       "      <th>Year-Of-Publication</th>\n",
       "      <th>Publisher</th>\n",
       "      <th>Language</th>\n",
       "    </tr>\n",
       "  </thead>\n",
       "  <tbody>\n",
       "    <tr>\n",
       "      <th>209538</th>\n",
       "      <td>078946697X</td>\n",
       "      <td>2000</td>\n",
       "      <td>DK READERS CREATING THE X-MEN, HOW IT ALL BEGA...</td>\n",
       "      <td>2000</td>\n",
       "      <td>HTTP://IMAGES.AMAZON.COM/IMAGES/P/078946697X.0...</td>\n",
       "      <td>None</td>\n",
       "    </tr>\n",
       "    <tr>\n",
       "      <th>220731</th>\n",
       "      <td>2070426769</td>\n",
       "      <td>2003</td>\n",
       "      <td>PEUPLE DU CIEL, SUIVI DE 'LES BERGERS\\\";JEAN-M...</td>\n",
       "      <td>2003</td>\n",
       "      <td>HTTP://IMAGES.AMAZON.COM/IMAGES/P/2070426769.0...</td>\n",
       "      <td>None</td>\n",
       "    </tr>\n",
       "    <tr>\n",
       "      <th>221678</th>\n",
       "      <td>0789466953</td>\n",
       "      <td>2000</td>\n",
       "      <td>DK READERS CREATING THE X-MEN, HOW COMIC BOOKS...</td>\n",
       "      <td>2000</td>\n",
       "      <td>HTTP://IMAGES.AMAZON.COM/IMAGES/P/0789466953.0...</td>\n",
       "      <td>None</td>\n",
       "    </tr>\n",
       "  </tbody>\n",
       "</table>\n",
       "</div>"
      ],
      "text/plain": [
       "              ISBN Book-Author  \\\n",
       "209538  078946697X        2000   \n",
       "220731  2070426769        2003   \n",
       "221678  0789466953        2000   \n",
       "\n",
       "                                               Book-Title  \\\n",
       "209538  DK READERS CREATING THE X-MEN, HOW IT ALL BEGA...   \n",
       "220731  PEUPLE DU CIEL, SUIVI DE 'LES BERGERS\\\";JEAN-M...   \n",
       "221678  DK READERS CREATING THE X-MEN, HOW COMIC BOOKS...   \n",
       "\n",
       "        Year-Of-Publication  \\\n",
       "209538                 2000   \n",
       "220731                 2003   \n",
       "221678                 2000   \n",
       "\n",
       "                                                Publisher Language  \n",
       "209538  HTTP://IMAGES.AMAZON.COM/IMAGES/P/078946697X.0...     None  \n",
       "220731  HTTP://IMAGES.AMAZON.COM/IMAGES/P/2070426769.0...     None  \n",
       "221678  HTTP://IMAGES.AMAZON.COM/IMAGES/P/0789466953.0...     None  "
      ]
     },
     "execution_count": 17,
     "metadata": {},
     "output_type": "execute_result"
    }
   ],
   "source": [
    "# find the Book-Author, which is only number\n",
    "numeric_rows = books_data['Book-Author'].str.contains('^\\d+$')\n",
    "books_data[numeric_rows.fillna(False)]\n"
   ]
  },
  {
   "cell_type": "code",
   "execution_count": 18,
   "metadata": {},
   "outputs": [],
   "source": [
    "# update the Book-Author with the right values\n",
    "books_data.loc[209538, 'Book-Author'] = str.upper('Teitelbaum, Michael')\n",
    "books_data.loc[220731, 'Book-Author'] = str.upper('Le Clezio, Jean-Marie Gustave')\n",
    "books_data.loc[221678, 'Book-Author'] = str.upper('Buckley Jr., James')"
   ]
  },
  {
   "cell_type": "code",
   "execution_count": 19,
   "metadata": {},
   "outputs": [
    {
     "data": {
      "text/html": [
       "<div>\n",
       "<style scoped>\n",
       "    .dataframe tbody tr th:only-of-type {\n",
       "        vertical-align: middle;\n",
       "    }\n",
       "\n",
       "    .dataframe tbody tr th {\n",
       "        vertical-align: top;\n",
       "    }\n",
       "\n",
       "    .dataframe thead th {\n",
       "        text-align: right;\n",
       "    }\n",
       "</style>\n",
       "<table border=\"1\" class=\"dataframe\">\n",
       "  <thead>\n",
       "    <tr style=\"text-align: right;\">\n",
       "      <th></th>\n",
       "      <th>ISBN</th>\n",
       "      <th>Book-Author</th>\n",
       "      <th>Book-Title</th>\n",
       "      <th>Year-Of-Publication</th>\n",
       "      <th>Publisher</th>\n",
       "      <th>Language</th>\n",
       "    </tr>\n",
       "  </thead>\n",
       "  <tbody>\n",
       "    <tr>\n",
       "      <th>0</th>\n",
       "      <td>0195153448</td>\n",
       "      <td>MARK P. O. MORFORD</td>\n",
       "      <td>CLASSICAL MYTHOLOGY</td>\n",
       "      <td>2002</td>\n",
       "      <td>OXFORD UNIVERSITY PRESS</td>\n",
       "      <td>None</td>\n",
       "    </tr>\n",
       "    <tr>\n",
       "      <th>1</th>\n",
       "      <td>0002005018</td>\n",
       "      <td>RICHARD BRUCE WRIGHT</td>\n",
       "      <td>CLARA CALLAN</td>\n",
       "      <td>2001</td>\n",
       "      <td>HARPERFLAMINGO CANADA</td>\n",
       "      <td>None</td>\n",
       "    </tr>\n",
       "    <tr>\n",
       "      <th>2</th>\n",
       "      <td>0060973129</td>\n",
       "      <td>CARLO D'ESTE</td>\n",
       "      <td>DECISION IN NORMANDY</td>\n",
       "      <td>1991</td>\n",
       "      <td>HARPERPERENNIAL</td>\n",
       "      <td>None</td>\n",
       "    </tr>\n",
       "    <tr>\n",
       "      <th>3</th>\n",
       "      <td>0374157065</td>\n",
       "      <td>GINA BARI KOLATA</td>\n",
       "      <td>FLU THE STORY OF THE GREAT INFLUENZA PANDEMIC ...</td>\n",
       "      <td>1999</td>\n",
       "      <td>FARRAR STRAUS GIROUX</td>\n",
       "      <td>None</td>\n",
       "    </tr>\n",
       "    <tr>\n",
       "      <th>4</th>\n",
       "      <td>0393045218</td>\n",
       "      <td>E. J. W. BARBER</td>\n",
       "      <td>THE MUMMIES OF URUMCHI</td>\n",
       "      <td>1999</td>\n",
       "      <td>W. W. NORTON &amp;AMP; COMPANY</td>\n",
       "      <td>None</td>\n",
       "    </tr>\n",
       "    <tr>\n",
       "      <th>...</th>\n",
       "      <td>...</td>\n",
       "      <td>...</td>\n",
       "      <td>...</td>\n",
       "      <td>...</td>\n",
       "      <td>...</td>\n",
       "      <td>...</td>\n",
       "    </tr>\n",
       "    <tr>\n",
       "      <th>271354</th>\n",
       "      <td>0449906736</td>\n",
       "      <td>ROBIN WRIGHT</td>\n",
       "      <td>FLASHPOINTS PROMISE AND PERIL IN A NEW WORLD</td>\n",
       "      <td>1993</td>\n",
       "      <td>BALLANTINE BOOKS</td>\n",
       "      <td>None</td>\n",
       "    </tr>\n",
       "    <tr>\n",
       "      <th>271355</th>\n",
       "      <td>0440400988</td>\n",
       "      <td>PAULA DANZIGER</td>\n",
       "      <td>THERE'S A BAT IN BUNK FIVE</td>\n",
       "      <td>1988</td>\n",
       "      <td>RANDOM HOUSE CHILDRENS PUB (MM)</td>\n",
       "      <td>None</td>\n",
       "    </tr>\n",
       "    <tr>\n",
       "      <th>271356</th>\n",
       "      <td>0525447644</td>\n",
       "      <td>TERI SLOAT</td>\n",
       "      <td>FROM ONE TO ONE HUNDRED</td>\n",
       "      <td>1991</td>\n",
       "      <td>DUTTON BOOKS</td>\n",
       "      <td>None</td>\n",
       "    </tr>\n",
       "    <tr>\n",
       "      <th>271357</th>\n",
       "      <td>006008667X</td>\n",
       "      <td>CHRISTINE WICKER</td>\n",
       "      <td>LILY DALE  THE TRUE STORY OF THE TOWN THAT TAL...</td>\n",
       "      <td>2004</td>\n",
       "      <td>HARPERSANFRANCISCO</td>\n",
       "      <td>None</td>\n",
       "    </tr>\n",
       "    <tr>\n",
       "      <th>271359</th>\n",
       "      <td>0767409752</td>\n",
       "      <td>CHRISTOPHER  BIFFLE</td>\n",
       "      <td>A GUIDED TOUR OF RENE DESCARTES' MEDITATIONS O...</td>\n",
       "      <td>2000</td>\n",
       "      <td>MCGRAW-HILL HUMANITIES/SOCIAL SCIENCES/LANGUAGES</td>\n",
       "      <td>None</td>\n",
       "    </tr>\n",
       "  </tbody>\n",
       "</table>\n",
       "<p>266374 rows × 6 columns</p>\n",
       "</div>"
      ],
      "text/plain": [
       "              ISBN           Book-Author  \\\n",
       "0       0195153448    MARK P. O. MORFORD   \n",
       "1       0002005018  RICHARD BRUCE WRIGHT   \n",
       "2       0060973129          CARLO D'ESTE   \n",
       "3       0374157065      GINA BARI KOLATA   \n",
       "4       0393045218       E. J. W. BARBER   \n",
       "...            ...                   ...   \n",
       "271354  0449906736          ROBIN WRIGHT   \n",
       "271355  0440400988        PAULA DANZIGER   \n",
       "271356  0525447644            TERI SLOAT   \n",
       "271357  006008667X      CHRISTINE WICKER   \n",
       "271359  0767409752   CHRISTOPHER  BIFFLE   \n",
       "\n",
       "                                               Book-Title  \\\n",
       "0                                     CLASSICAL MYTHOLOGY   \n",
       "1                                            CLARA CALLAN   \n",
       "2                                    DECISION IN NORMANDY   \n",
       "3       FLU THE STORY OF THE GREAT INFLUENZA PANDEMIC ...   \n",
       "4                                  THE MUMMIES OF URUMCHI   \n",
       "...                                                   ...   \n",
       "271354       FLASHPOINTS PROMISE AND PERIL IN A NEW WORLD   \n",
       "271355                         THERE'S A BAT IN BUNK FIVE   \n",
       "271356                            FROM ONE TO ONE HUNDRED   \n",
       "271357  LILY DALE  THE TRUE STORY OF THE TOWN THAT TAL...   \n",
       "271359  A GUIDED TOUR OF RENE DESCARTES' MEDITATIONS O...   \n",
       "\n",
       "        Year-Of-Publication                                         Publisher  \\\n",
       "0                      2002                           OXFORD UNIVERSITY PRESS   \n",
       "1                      2001                             HARPERFLAMINGO CANADA   \n",
       "2                      1991                                   HARPERPERENNIAL   \n",
       "3                      1999                              FARRAR STRAUS GIROUX   \n",
       "4                      1999                        W. W. NORTON &AMP; COMPANY   \n",
       "...                     ...                                               ...   \n",
       "271354                 1993                                  BALLANTINE BOOKS   \n",
       "271355                 1988                   RANDOM HOUSE CHILDRENS PUB (MM)   \n",
       "271356                 1991                                      DUTTON BOOKS   \n",
       "271357                 2004                                HARPERSANFRANCISCO   \n",
       "271359                 2000  MCGRAW-HILL HUMANITIES/SOCIAL SCIENCES/LANGUAGES   \n",
       "\n",
       "       Language  \n",
       "0          None  \n",
       "1          None  \n",
       "2          None  \n",
       "3          None  \n",
       "4          None  \n",
       "...         ...  \n",
       "271354     None  \n",
       "271355     None  \n",
       "271356     None  \n",
       "271357     None  \n",
       "271359     None  \n",
       "\n",
       "[266374 rows x 6 columns]"
      ]
     },
     "execution_count": 19,
     "metadata": {},
     "output_type": "execute_result"
    }
   ],
   "source": [
    "# checking the Book-Author with '. ' - problem with J.K.Rowling\n",
    "books_data[books_data[\"Book-Author\"].str.contains('. ')]"
   ]
  },
  {
   "cell_type": "code",
   "execution_count": 20,
   "metadata": {},
   "outputs": [],
   "source": [
    "# getting rid of the empty space\n",
    "books_data['Book-Author'] = books_data['Book-Author'].apply(lambda x:re.sub('. ', '.', x))"
   ]
  },
  {
   "cell_type": "code",
   "execution_count": 21,
   "metadata": {},
   "outputs": [],
   "source": [
    "#filling the Language column\n",
    "# books_data['Language'] = books_data['Book-Title'].apply(lambda x: langid.classify(x)[0])\n",
    "# books_data['Language'] = books_data['Language'].apply(lambda x: str.upper(x))"
   ]
  },
  {
   "cell_type": "code",
   "execution_count": 22,
   "metadata": {},
   "outputs": [
    {
     "data": {
      "text/html": [
       "<div>\n",
       "<style scoped>\n",
       "    .dataframe tbody tr th:only-of-type {\n",
       "        vertical-align: middle;\n",
       "    }\n",
       "\n",
       "    .dataframe tbody tr th {\n",
       "        vertical-align: top;\n",
       "    }\n",
       "\n",
       "    .dataframe thead th {\n",
       "        text-align: right;\n",
       "    }\n",
       "</style>\n",
       "<table border=\"1\" class=\"dataframe\">\n",
       "  <thead>\n",
       "    <tr style=\"text-align: right;\">\n",
       "      <th></th>\n",
       "      <th>ISBN</th>\n",
       "      <th>Book-Author</th>\n",
       "      <th>Book-Title</th>\n",
       "      <th>Year-Of-Publication</th>\n",
       "      <th>Publisher</th>\n",
       "      <th>Language</th>\n",
       "    </tr>\n",
       "  </thead>\n",
       "  <tbody>\n",
       "  </tbody>\n",
       "</table>\n",
       "</div>"
      ],
      "text/plain": [
       "Empty DataFrame\n",
       "Columns: [ISBN, Book-Author, Book-Title, Year-Of-Publication, Publisher, Language]\n",
       "Index: []"
      ]
     },
     "execution_count": 22,
     "metadata": {},
     "output_type": "execute_result"
    }
   ],
   "source": [
    "# checking duplicates\n",
    "books_data[books_data.duplicated()]"
   ]
  },
  {
   "cell_type": "code",
   "execution_count": 23,
   "metadata": {},
   "outputs": [
    {
     "data": {
      "text/html": [
       "<div>\n",
       "<style scoped>\n",
       "    .dataframe tbody tr th:only-of-type {\n",
       "        vertical-align: middle;\n",
       "    }\n",
       "\n",
       "    .dataframe tbody tr th {\n",
       "        vertical-align: top;\n",
       "    }\n",
       "\n",
       "    .dataframe thead th {\n",
       "        text-align: right;\n",
       "    }\n",
       "</style>\n",
       "<table border=\"1\" class=\"dataframe\">\n",
       "  <thead>\n",
       "    <tr style=\"text-align: right;\">\n",
       "      <th></th>\n",
       "      <th>User-ID</th>\n",
       "      <th>ISBN</th>\n",
       "      <th>Book-Rating</th>\n",
       "    </tr>\n",
       "  </thead>\n",
       "  <tbody>\n",
       "  </tbody>\n",
       "</table>\n",
       "</div>"
      ],
      "text/plain": [
       "Empty DataFrame\n",
       "Columns: [User-ID, ISBN, Book-Rating]\n",
       "Index: []"
      ]
     },
     "execution_count": 23,
     "metadata": {},
     "output_type": "execute_result"
    }
   ],
   "source": [
    "# checking null values\n",
    "ratings_data[ratings_data['User-ID'].isna()]"
   ]
  },
  {
   "cell_type": "code",
   "execution_count": 24,
   "metadata": {},
   "outputs": [
    {
     "data": {
      "text/html": [
       "<div>\n",
       "<style scoped>\n",
       "    .dataframe tbody tr th:only-of-type {\n",
       "        vertical-align: middle;\n",
       "    }\n",
       "\n",
       "    .dataframe tbody tr th {\n",
       "        vertical-align: top;\n",
       "    }\n",
       "\n",
       "    .dataframe thead th {\n",
       "        text-align: right;\n",
       "    }\n",
       "</style>\n",
       "<table border=\"1\" class=\"dataframe\">\n",
       "  <thead>\n",
       "    <tr style=\"text-align: right;\">\n",
       "      <th></th>\n",
       "      <th>User-ID</th>\n",
       "      <th>ISBN</th>\n",
       "      <th>Book-Rating</th>\n",
       "    </tr>\n",
       "  </thead>\n",
       "  <tbody>\n",
       "  </tbody>\n",
       "</table>\n",
       "</div>"
      ],
      "text/plain": [
       "Empty DataFrame\n",
       "Columns: [User-ID, ISBN, Book-Rating]\n",
       "Index: []"
      ]
     },
     "execution_count": 24,
     "metadata": {},
     "output_type": "execute_result"
    }
   ],
   "source": [
    "# checking null values\n",
    "ratings_data[ratings_data['ISBN'].isna()]"
   ]
  },
  {
   "cell_type": "code",
   "execution_count": 25,
   "metadata": {},
   "outputs": [
    {
     "data": {
      "text/html": [
       "<div>\n",
       "<style scoped>\n",
       "    .dataframe tbody tr th:only-of-type {\n",
       "        vertical-align: middle;\n",
       "    }\n",
       "\n",
       "    .dataframe tbody tr th {\n",
       "        vertical-align: top;\n",
       "    }\n",
       "\n",
       "    .dataframe thead th {\n",
       "        text-align: right;\n",
       "    }\n",
       "</style>\n",
       "<table border=\"1\" class=\"dataframe\">\n",
       "  <thead>\n",
       "    <tr style=\"text-align: right;\">\n",
       "      <th></th>\n",
       "      <th>User-ID</th>\n",
       "      <th>ISBN</th>\n",
       "      <th>Book-Rating</th>\n",
       "    </tr>\n",
       "  </thead>\n",
       "  <tbody>\n",
       "  </tbody>\n",
       "</table>\n",
       "</div>"
      ],
      "text/plain": [
       "Empty DataFrame\n",
       "Columns: [User-ID, ISBN, Book-Rating]\n",
       "Index: []"
      ]
     },
     "execution_count": 25,
     "metadata": {},
     "output_type": "execute_result"
    }
   ],
   "source": [
    "# checking null values\n",
    "ratings_data[ratings_data['Book-Rating'].isna()]"
   ]
  },
  {
   "cell_type": "code",
   "execution_count": 29,
   "metadata": {},
   "outputs": [
    {
     "data": {
      "text/html": [
       "<div>\n",
       "<style scoped>\n",
       "    .dataframe tbody tr th:only-of-type {\n",
       "        vertical-align: middle;\n",
       "    }\n",
       "\n",
       "    .dataframe tbody tr th {\n",
       "        vertical-align: top;\n",
       "    }\n",
       "\n",
       "    .dataframe thead th {\n",
       "        text-align: right;\n",
       "    }\n",
       "</style>\n",
       "<table border=\"1\" class=\"dataframe\">\n",
       "  <thead>\n",
       "    <tr style=\"text-align: right;\">\n",
       "      <th></th>\n",
       "      <th>User-ID</th>\n",
       "      <th>ISBN</th>\n",
       "      <th>Book-Rating</th>\n",
       "    </tr>\n",
       "  </thead>\n",
       "  <tbody>\n",
       "  </tbody>\n",
       "</table>\n",
       "</div>"
      ],
      "text/plain": [
       "Empty DataFrame\n",
       "Columns: [User-ID, ISBN, Book-Rating]\n",
       "Index: []"
      ]
     },
     "execution_count": 29,
     "metadata": {},
     "output_type": "execute_result"
    }
   ],
   "source": [
    "# checking 0 values in rating\n",
    "ratings_data[ratings_data['Book-Rating']==0]"
   ]
  },
  {
   "cell_type": "code",
   "execution_count": 30,
   "metadata": {},
   "outputs": [],
   "source": [
    "# droping 0 values in rating\n",
    "ratings_data = ratings_data[ratings_data['Book-Rating'] != 0]"
   ]
  },
  {
   "cell_type": "code",
   "execution_count": 31,
   "metadata": {},
   "outputs": [
    {
     "data": {
      "text/html": [
       "<div>\n",
       "<style scoped>\n",
       "    .dataframe tbody tr th:only-of-type {\n",
       "        vertical-align: middle;\n",
       "    }\n",
       "\n",
       "    .dataframe tbody tr th {\n",
       "        vertical-align: top;\n",
       "    }\n",
       "\n",
       "    .dataframe thead th {\n",
       "        text-align: right;\n",
       "    }\n",
       "</style>\n",
       "<table border=\"1\" class=\"dataframe\">\n",
       "  <thead>\n",
       "    <tr style=\"text-align: right;\">\n",
       "      <th></th>\n",
       "      <th>User-ID</th>\n",
       "      <th>ISBN</th>\n",
       "      <th>Book-Rating</th>\n",
       "    </tr>\n",
       "  </thead>\n",
       "  <tbody>\n",
       "  </tbody>\n",
       "</table>\n",
       "</div>"
      ],
      "text/plain": [
       "Empty DataFrame\n",
       "Columns: [User-ID, ISBN, Book-Rating]\n",
       "Index: []"
      ]
     },
     "execution_count": 31,
     "metadata": {},
     "output_type": "execute_result"
    }
   ],
   "source": [
    "# checking for duplicates\n",
    "ratings_data[ratings_data.duplicated()]"
   ]
  },
  {
   "cell_type": "code",
   "execution_count": 32,
   "metadata": {},
   "outputs": [
    {
     "data": {
      "text/html": [
       "<div>\n",
       "<style scoped>\n",
       "    .dataframe tbody tr th:only-of-type {\n",
       "        vertical-align: middle;\n",
       "    }\n",
       "\n",
       "    .dataframe tbody tr th {\n",
       "        vertical-align: top;\n",
       "    }\n",
       "\n",
       "    .dataframe thead th {\n",
       "        text-align: right;\n",
       "    }\n",
       "</style>\n",
       "<table border=\"1\" class=\"dataframe\">\n",
       "  <thead>\n",
       "    <tr style=\"text-align: right;\">\n",
       "      <th></th>\n",
       "      <th>User-ID</th>\n",
       "      <th>Location</th>\n",
       "      <th>Age</th>\n",
       "    </tr>\n",
       "  </thead>\n",
       "  <tbody>\n",
       "  </tbody>\n",
       "</table>\n",
       "</div>"
      ],
      "text/plain": [
       "Empty DataFrame\n",
       "Columns: [User-ID, Location, Age]\n",
       "Index: []"
      ]
     },
     "execution_count": 32,
     "metadata": {},
     "output_type": "execute_result"
    }
   ],
   "source": [
    "# checking null values\n",
    "users_data[users_data['User-ID'].isna()]"
   ]
  },
  {
   "cell_type": "code",
   "execution_count": 33,
   "metadata": {},
   "outputs": [
    {
     "data": {
      "text/html": [
       "<div>\n",
       "<style scoped>\n",
       "    .dataframe tbody tr th:only-of-type {\n",
       "        vertical-align: middle;\n",
       "    }\n",
       "\n",
       "    .dataframe tbody tr th {\n",
       "        vertical-align: top;\n",
       "    }\n",
       "\n",
       "    .dataframe thead th {\n",
       "        text-align: right;\n",
       "    }\n",
       "</style>\n",
       "<table border=\"1\" class=\"dataframe\">\n",
       "  <thead>\n",
       "    <tr style=\"text-align: right;\">\n",
       "      <th></th>\n",
       "      <th>User-ID</th>\n",
       "      <th>Location</th>\n",
       "      <th>Age</th>\n",
       "    </tr>\n",
       "  </thead>\n",
       "  <tbody>\n",
       "  </tbody>\n",
       "</table>\n",
       "</div>"
      ],
      "text/plain": [
       "Empty DataFrame\n",
       "Columns: [User-ID, Location, Age]\n",
       "Index: []"
      ]
     },
     "execution_count": 33,
     "metadata": {},
     "output_type": "execute_result"
    }
   ],
   "source": [
    "# checking null values\n",
    "users_data[users_data['Location'].isna()]"
   ]
  },
  {
   "cell_type": "code",
   "execution_count": 34,
   "metadata": {},
   "outputs": [
    {
     "data": {
      "text/html": [
       "<div>\n",
       "<style scoped>\n",
       "    .dataframe tbody tr th:only-of-type {\n",
       "        vertical-align: middle;\n",
       "    }\n",
       "\n",
       "    .dataframe tbody tr th {\n",
       "        vertical-align: top;\n",
       "    }\n",
       "\n",
       "    .dataframe thead th {\n",
       "        text-align: right;\n",
       "    }\n",
       "</style>\n",
       "<table border=\"1\" class=\"dataframe\">\n",
       "  <thead>\n",
       "    <tr style=\"text-align: right;\">\n",
       "      <th></th>\n",
       "      <th>User-ID</th>\n",
       "      <th>Location</th>\n",
       "      <th>Age</th>\n",
       "    </tr>\n",
       "  </thead>\n",
       "  <tbody>\n",
       "    <tr>\n",
       "      <th>0</th>\n",
       "      <td>1</td>\n",
       "      <td>nyc, new york, usa</td>\n",
       "      <td>&lt;NA&gt;</td>\n",
       "    </tr>\n",
       "    <tr>\n",
       "      <th>2</th>\n",
       "      <td>3</td>\n",
       "      <td>moscow, yukon territory, russia</td>\n",
       "      <td>&lt;NA&gt;</td>\n",
       "    </tr>\n",
       "    <tr>\n",
       "      <th>4</th>\n",
       "      <td>5</td>\n",
       "      <td>farnborough, hants, united kingdom</td>\n",
       "      <td>&lt;NA&gt;</td>\n",
       "    </tr>\n",
       "    <tr>\n",
       "      <th>6</th>\n",
       "      <td>7</td>\n",
       "      <td>washington, dc, usa</td>\n",
       "      <td>&lt;NA&gt;</td>\n",
       "    </tr>\n",
       "    <tr>\n",
       "      <th>7</th>\n",
       "      <td>8</td>\n",
       "      <td>timmins, ontario, canada</td>\n",
       "      <td>&lt;NA&gt;</td>\n",
       "    </tr>\n",
       "    <tr>\n",
       "      <th>...</th>\n",
       "      <td>...</td>\n",
       "      <td>...</td>\n",
       "      <td>...</td>\n",
       "    </tr>\n",
       "    <tr>\n",
       "      <th>278849</th>\n",
       "      <td>278850</td>\n",
       "      <td>sergnano, lombardia, italy</td>\n",
       "      <td>&lt;NA&gt;</td>\n",
       "    </tr>\n",
       "    <tr>\n",
       "      <th>278853</th>\n",
       "      <td>278854</td>\n",
       "      <td>portland, oregon, usa</td>\n",
       "      <td>&lt;NA&gt;</td>\n",
       "    </tr>\n",
       "    <tr>\n",
       "      <th>278855</th>\n",
       "      <td>278856</td>\n",
       "      <td>brampton, ontario, canada</td>\n",
       "      <td>&lt;NA&gt;</td>\n",
       "    </tr>\n",
       "    <tr>\n",
       "      <th>278856</th>\n",
       "      <td>278857</td>\n",
       "      <td>knoxville, tennessee, usa</td>\n",
       "      <td>&lt;NA&gt;</td>\n",
       "    </tr>\n",
       "    <tr>\n",
       "      <th>278857</th>\n",
       "      <td>278858</td>\n",
       "      <td>dublin, n/a, ireland</td>\n",
       "      <td>&lt;NA&gt;</td>\n",
       "    </tr>\n",
       "  </tbody>\n",
       "</table>\n",
       "<p>110762 rows × 3 columns</p>\n",
       "</div>"
      ],
      "text/plain": [
       "        User-ID                            Location   Age\n",
       "0             1                  nyc, new york, usa  <NA>\n",
       "2             3     moscow, yukon territory, russia  <NA>\n",
       "4             5  farnborough, hants, united kingdom  <NA>\n",
       "6             7                 washington, dc, usa  <NA>\n",
       "7             8            timmins, ontario, canada  <NA>\n",
       "...         ...                                 ...   ...\n",
       "278849   278850          sergnano, lombardia, italy  <NA>\n",
       "278853   278854               portland, oregon, usa  <NA>\n",
       "278855   278856           brampton, ontario, canada  <NA>\n",
       "278856   278857           knoxville, tennessee, usa  <NA>\n",
       "278857   278858                dublin, n/a, ireland  <NA>\n",
       "\n",
       "[110762 rows x 3 columns]"
      ]
     },
     "execution_count": 34,
     "metadata": {},
     "output_type": "execute_result"
    }
   ],
   "source": [
    "# checking null values\n",
    "users_data[users_data['Age'].isna()]"
   ]
  },
  {
   "cell_type": "code",
   "execution_count": 35,
   "metadata": {},
   "outputs": [],
   "source": [
    "# filling null values\n",
    "users_data['Age'].fillna(0, inplace=True)\n",
    "users_data['Location'].fillna('', inplace=True)"
   ]
  },
  {
   "cell_type": "code",
   "execution_count": 36,
   "metadata": {},
   "outputs": [],
   "source": [
    "# saving the data in interim folder\n",
    "\n",
    "with open('C:/Users/ASUS/anaconda3/data_scentics/data/interim/books_data.pkl', 'wb') as f:\n",
    "    pickle.dump(books_data, f)\n",
    "\n",
    "with open('C:/Users/ASUS/anaconda3/data_scentics/data/interim/ratings_data.pkl', 'wb') as f:\n",
    "    pickle.dump(ratings_data, f)\n",
    "\n",
    "with open('C:/Users/ASUS/anaconda3/data_scentics/data/interim/users_data.pkl', 'wb') as f:\n",
    "    pickle.dump(users_data, f)\n",
    "\n"
   ]
  }
 ],
 "metadata": {
  "kernelspec": {
   "display_name": "analytics",
   "language": "python",
   "name": "python3"
  },
  "language_info": {
   "codemirror_mode": {
    "name": "ipython",
    "version": 3
   },
   "file_extension": ".py",
   "mimetype": "text/x-python",
   "name": "python",
   "nbconvert_exporter": "python",
   "pygments_lexer": "ipython3",
   "version": "3.9.18"
  }
 },
 "nbformat": 4,
 "nbformat_minor": 2
}
